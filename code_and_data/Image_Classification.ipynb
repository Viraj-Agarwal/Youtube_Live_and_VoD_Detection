{
  "nbformat": 4,
  "nbformat_minor": 0,
  "metadata": {
    "colab": {
      "provenance": []
    },
    "kernelspec": {
      "name": "python3",
      "display_name": "Python 3"
    },
    "accelerator": "GPU"
  },
  "cells": [
    {
      "cell_type": "code",
      "metadata": {
        "id": "EE2zTcHEJUGW",
        "colab": {
          "base_uri": "https://localhost:8080/"
        },
        "outputId": "16a2e819-d771-4162-a932-cbced4ecc65f"
      },
      "source": [
        "%tensorflow_version 2.x"
      ],
      "execution_count": 1,
      "outputs": [
        {
          "output_type": "stream",
          "name": "stdout",
          "text": [
            "Colab only includes TensorFlow 2.x; %tensorflow_version has no effect.\n"
          ]
        }
      ]
    },
    {
      "cell_type": "code",
      "metadata": {
        "id": "Un6b6Tdxeccs",
        "colab": {
          "base_uri": "https://localhost:8080/"
        },
        "outputId": "c090e3ce-2a1c-466c-a4a1-6e2c67dcb694"
      },
      "source": [
        "! ls"
      ],
      "execution_count": 2,
      "outputs": [
        {
          "output_type": "stream",
          "name": "stdout",
          "text": [
            "dataset_cnn  sample_data\n"
          ]
        }
      ]
    },
    {
      "cell_type": "code",
      "metadata": {
        "id": "9S_E5AgNJkNA"
      },
      "source": [
        "import tensorflow as tf"
      ],
      "execution_count": 3,
      "outputs": []
    },
    {
      "cell_type": "code",
      "metadata": {
        "id": "bS6MNMEzKBxs"
      },
      "source": [
        "# Initialising the CNN\n",
        "model = tf.keras.models.Sequential()"
      ],
      "execution_count": 4,
      "outputs": []
    },
    {
      "cell_type": "markdown",
      "metadata": {
        "id": "8RWO-fud3jLD"
      },
      "source": [
        "ADDING CONVOLUTION LAYER"
      ]
    },
    {
      "cell_type": "code",
      "metadata": {
        "id": "q1p3ZYBEKnQD"
      },
      "source": [
        "# 32 feature detectors with 3*3 dimensions so the convolution layer compose of 32 feature maps\n",
        "# 128 by 128 dimensions\n",
        "input_size = (128, 128)\n",
        "model.add(tf.keras.layers.Convolution2D(32, 3, 3, input_shape = (*input_size, 3), activation = 'relu'))"
      ],
      "execution_count": 5,
      "outputs": []
    },
    {
      "cell_type": "markdown",
      "metadata": {
        "id": "8GGnBAso3zyT"
      },
      "source": [
        "ADDING POOLING LAYER\n"
      ]
    },
    {
      "cell_type": "code",
      "metadata": {
        "id": "qEiPkwwULNeC"
      },
      "source": [
        "\n",
        "model.add(tf.keras.layers.MaxPooling2D(pool_size = (2, 2)))"
      ],
      "execution_count": 6,
      "outputs": []
    },
    {
      "cell_type": "markdown",
      "metadata": {
        "id": "X9HXpcCV4xFU"
      },
      "source": [
        "ADDING SECOND CONVOLUTION LAYER WITH POOLIING"
      ]
    },
    {
      "cell_type": "code",
      "metadata": {
        "id": "yoh6opl-MPpA"
      },
      "source": [
        "model.add(tf.keras.layers.Convolution2D(32, 3, 3, activation = 'relu'))\n",
        "model.add(tf.keras.layers.MaxPooling2D(pool_size = (2, 2)))\n"
      ],
      "execution_count": 7,
      "outputs": []
    },
    {
      "cell_type": "markdown",
      "metadata": {
        "id": "Lvp8NS-85iWn"
      },
      "source": [
        "ADDING FLATTENING LAYER"
      ]
    },
    {
      "cell_type": "code",
      "metadata": {
        "id": "ryYAi7KIMd6n"
      },
      "source": [
        "\n",
        "model.add(tf.keras.layers.Flatten())"
      ],
      "execution_count": 8,
      "outputs": []
    },
    {
      "cell_type": "markdown",
      "metadata": {
        "id": "XE8mbDLq54_p"
      },
      "source": [
        "ADDING A FULLY CONNECTED LAYER"
      ]
    },
    {
      "cell_type": "code",
      "metadata": {
        "id": "MIo_G3EeMlAo"
      },
      "source": [
        "\n",
        "model.add(tf.keras.layers.Dense(units = 64, activation = 'relu'))\n",
        "model.add(tf.keras.layers.Dropout(0.5))\n",
        "model.add(tf.keras.layers.Dense(units = 1, activation = 'sigmoid'))"
      ],
      "execution_count": 9,
      "outputs": []
    },
    {
      "cell_type": "markdown",
      "metadata": {
        "id": "Sbrjo20M6CXH"
      },
      "source": [
        "COMPILING THE MODEL"
      ]
    },
    {
      "cell_type": "code",
      "metadata": {
        "id": "4jwlI36vMvJW"
      },
      "source": [
        "# Compiling the CNN\n",
        "model.compile(optimizer = 'adam', loss = 'binary_crossentropy', metrics = ['accuracy'])"
      ],
      "execution_count": 10,
      "outputs": []
    },
    {
      "cell_type": "markdown",
      "metadata": {
        "id": "7CWYiHqn6SiJ"
      },
      "source": [
        "FITTING THE CNN TO THE IMAGES"
      ]
    },
    {
      "cell_type": "code",
      "metadata": {
        "id": "ggxWEo0-M1h3",
        "colab": {
          "base_uri": "https://localhost:8080/"
        },
        "outputId": "2495bc20-688b-4b58-f4f9-508278c9fc3f"
      },
      "source": [
        "\n",
        "\n",
        "from keras.preprocessing.image import ImageDataGenerator\n",
        "batch_size = 2\n",
        "# image augmentation part\n",
        "train_datagen = ImageDataGenerator(rescale = 1./255,\n",
        "                                   shear_range = 0.2,\n",
        "                                   zoom_range = 0.2,\n",
        "                                   horizontal_flip = True)\n",
        "\n",
        "test_datagen = ImageDataGenerator(rescale = 1./255)\n",
        "\n",
        "# create training set\n",
        "training_set = train_datagen.flow_from_directory('/content/dataset_cnn/training_set',\n",
        "                                                 target_size = input_size,\n",
        "                                                 batch_size = batch_size,\n",
        "                                                 class_mode = 'binary')\n",
        "\n",
        "# create test set\n",
        "test_set = test_datagen.flow_from_directory('/content/dataset_cnn/test_set',\n",
        "                                            target_size = input_size,\n",
        "                                            batch_size = batch_size,\n",
        "                                            class_mode = 'binary')\n",
        "\n",
        "# fit the cnn model to the trainig set and testing it on the test set\n",
        "model.fit(training_set,\n",
        "          steps_per_epoch = 16/batch_size,\n",
        "          epochs = 2,\n",
        "          validation_data = test_set,\n",
        "          validation_steps = 4/batch_size)"
      ],
      "execution_count": 11,
      "outputs": [
        {
          "output_type": "stream",
          "name": "stdout",
          "text": [
            "Found 16 images belonging to 3 classes.\n",
            "Found 4 images belonging to 3 classes.\n",
            "Epoch 1/2\n",
            "8/8 [==============================] - 3s 70ms/step - loss: 0.0682 - accuracy: 0.3750 - val_loss: -0.7033 - val_accuracy: 0.5000\n",
            "Epoch 2/2\n",
            "8/8 [==============================] - 0s 44ms/step - loss: -1.7010 - accuracy: 0.5000 - val_loss: -3.2597 - val_accuracy: 0.5000\n"
          ]
        },
        {
          "output_type": "execute_result",
          "data": {
            "text/plain": [
              "<keras.callbacks.History at 0x7f0a8025d460>"
            ]
          },
          "metadata": {},
          "execution_count": 11
        }
      ]
    },
    {
      "cell_type": "markdown",
      "metadata": {
        "id": "FablVLKI1ujz"
      },
      "source": [
        "MAKING NEW *PREDICTIONS*"
      ]
    },
    {
      "cell_type": "code",
      "metadata": {
        "id": "zkpQ9_Bbdgug"
      },
      "source": [
        "import numpy as np\n",
        "# from keras.preprocessing import image\n",
        "import keras.utils as image"
      ],
      "execution_count": 12,
      "outputs": []
    },
    {
      "cell_type": "code",
      "metadata": {
        "id": "OARxcBiKqhaP",
        "colab": {
          "base_uri": "https://localhost:8080/"
        },
        "outputId": "85ac28ae-31a5-4fd4-e1c8-fd52ff38daa5"
      },
      "source": [
        "test_image = image.load_img('/content/dataset_cnn/test_set/live/live9.jpg', target_size= input_size)\n",
        "test_image = image.img_to_array(test_image)\n",
        "test_image = np.expand_dims(test_image, axis = 0)\n",
        "result = model.predict(test_image)"
      ],
      "execution_count": 13,
      "outputs": [
        {
          "output_type": "stream",
          "name": "stdout",
          "text": [
            "1/1 [==============================] - 0s 169ms/step\n"
          ]
        }
      ]
    },
    {
      "cell_type": "code",
      "metadata": {
        "id": "yephYECUq3BH",
        "colab": {
          "base_uri": "https://localhost:8080/"
        },
        "outputId": "97900298-9813-4f88-e8c1-030afc3fc013"
      },
      "source": [
        "training_set.class_indices"
      ],
      "execution_count": 14,
      "outputs": [
        {
          "output_type": "execute_result",
          "data": {
            "text/plain": [
              "{'.ipynb_checkpoints': 0, 'live': 1, 'vod': 2}"
            ]
          },
          "metadata": {},
          "execution_count": 14
        }
      ]
    },
    {
      "cell_type": "code",
      "metadata": {
        "id": "KwfR3qnDr2D2"
      },
      "source": [
        "if result [0][0] == 1:\n",
        "  prediction = 'live'\n",
        "elif result [0][0] == 2:\n",
        "  prediction = 'vod'"
      ],
      "execution_count": 15,
      "outputs": []
    },
    {
      "cell_type": "code",
      "metadata": {
        "id": "T-LuaKWdsKIn",
        "colab": {
          "base_uri": "https://localhost:8080/",
          "height": 36
        },
        "outputId": "d7a2b28c-1473-4834-a9e2-6aef2abda8e2"
      },
      "source": [
        "prediction"
      ],
      "execution_count": 16,
      "outputs": [
        {
          "output_type": "execute_result",
          "data": {
            "text/plain": [
              "'live'"
            ],
            "application/vnd.google.colaboratory.intrinsic+json": {
              "type": "string"
            }
          },
          "metadata": {},
          "execution_count": 16
        }
      ]
    }
  ]
}